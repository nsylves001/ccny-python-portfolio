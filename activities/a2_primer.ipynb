# %% [markdown]
# # Activity 2: Python Primer on Lists, For Loops, and Functions

# %% [markdown]
# For this activity, we will be familiarizing ourselves with lists, for loops, and creating our own simple functions.
# 
# Please make sure you open this file in Jupyter Notebook or Google Colab. You will have to either open Jupyter Notebook first or upload the file to Google Colab before being able to edit the file.
# 
# Please make sure you **print your output.** You may need to use ```print``` for your output to be displayed.
# 
# -----
# ## Submission Instructions
# 1. Upload the completed activity to the "Activities" folder of your GitHub Portfolio;
# 2. Ensure your submission consists of two files: <br/>(a) one single-page reflection in markdown (e.g. `a2_reflection.md`);  <br/>(b) one Jupyter notebook with completed responses to each activity step (e.g. `a2_primer.ipynb`).

# %% [markdown]
# 1. Run the code in the cell below and explain why the error occured. Then, fix the error so that the code will run successfully.

# %%
names = ["Mary Gallagher", "John Sanin", "Anthony Clark", "Margaret Farrell"]

print(names)

# %% [markdown]
# ***Double click on this cell and explain your answer here.***

# %% [markdown]
# The code initially ran an error code because there are any quotations around the words to make it a string and a random question mark. I fixed the code by adding quotation marks around the names and deleted the question mark.

# %% [markdown]
# -----

# %% [markdown]
# ## Lists and for loops
# 
# Use the lists below to solve the following exercise questions. Make sure you run this cell before you begin with the activity or you will run into errors.

# %%
professions = ['married', 'laborer', 'widow', 'widow', 'laborer' ]
gender = ['woman', 'man', 'woman', 'woman', 'man']
longlist_professions = ['married', 'married', 'laborer', 'laborer', 'widow', 'married', 'spinster',
                     'laborer', 'spinster', 'laborer', 'spinster', 'spinster', 'married', 'laborer',
                     'laborer', 'spinster', 'laborer', 'laborer', 'laborer', 'laborer', 'laborer', 'spinster',
                     'laborer', 'spinster', 'widow', 'spinster', 'painter', 'laborer', 'weaver', 'laborer']

# %% [markdown]
# 2. Extract the second item in the list ```professions```.
#     
#    **Hint**: Python begins indexing from '0.' The first item, 'married,' is position [0].

# %%
professions[1]

# %% [markdown]
# 3. Make a **for loop** that considers each item in the ```professions``` list and prints “Person’s profession is ___.”   

# %%
for p in professions:
    print(f"Person's profession is {p}")

# %% [markdown]
# 4. Using a **list method**, add an item to the list ```gender``` called “not known”

# %%
gender.append("not known")
print(gender)

# %% [markdown]
# 5. Make a **for loop** that considers each item in the ```gender``` list and prints “Person identifies as a man” if the person is registered as a man, “Person identifies as a woman” if the person registered as a woman, and “Person’s gender is not known” if person's gender is unknown.

# %%
gender = input ("What do you identify as? ".upper())
if gender == "man":
  print("Person identifies as a man")
if gender == "woman":
  print("Person identifies as a woman")
if gender == "unknown":
  print("Person's gender is not known")

# %% [markdown]
# 6. Build a **new list** called ```spinster_list``` that includes only the items in the list ```longlist_professions``` that matches ```spinster```.
# 
#    **Hint**: You will need to create an empty list variable before sorting the list with a for loop.

# %% [markdown]
# spinster_list = list()
# longlist_professions.sort(reverse=True)
# for p in longlist_professions:
#     print(spinster_list)

# %% [markdown]
# 7. Find the most and least common professions in the list ```longlist_professions```.   
#    Run the cell below to import the ```Counter``` module and use the appropriate method.
# 
#    **Hint**: You will need to create a variable for the results of the Counter function before running the method.   
#    **Hint 2**: Check your spelling. Python is case-sensitive, and the function for Counter begins with a capital C.

# %%
from collections import Counter

# %%
Counter(longlist_professions)

# %% [markdown]
# 8. Run the code below and explain why the error occurred. Then, fix the error so that the code can run as intended.
#    
#     **Hint**: There are 2 errors in the code below

# %%
for job in professions:
    if job == "laborer":
        print(job)
    else:
        print(f"Wow, women were limited to their marital status, such as {job}.")

# %% [markdown]
# ***Double click on this cell and explain your answer here.***
# 
# 
# 

# %% [markdown]
# The first error is that there is no colon next to word laborer. The second error is that the else function wasn't indented properly.

# %% [markdown]
# -----

# %% [markdown]
# ## Defining functions

# %% [markdown]
# 9. Make a function called ```hello``` that greets the user with "Hello {person}! Have a good day ahead." Test your function to make sure it runs as intended.   
# 
#     **Hint**: You will need one parameter in the function.

# %%
def hello(person):
    print("Hilo!")
    print(f"Hello {person}! Have a good day ahead.")
    return

# %%
hello("Nitema")

# %% [markdown]
# 10. Make a function called ```sum_of_3``` that allows the user to add 3 numbers. Test your function to make sure it runs as intended.   
#     *Level-up challenge*: Use a default argument to prevent code failing if the user has less than 3 input.

# %%
def sum_of_3(a,b,c):
  return a+b+c

# %%
def sum_of_3(a,b,c):
  return a+b+c

result=sum_of_3(1,2,3)
print(result)

# %% [markdown]
# 11. Make a function called ```fahrenheit_to_celsius``` that converts the temperature in fahrenheit to celsius. Call your function to test that it runs as intended.
# 
#     **Hint**: The formula for converting the temperature is (Temperature in Fahrenheit - 32) * 5/9.

# %%
def fahrenheit_to_celsius():
  F = input("What is the temperature in Fahrenheit? ")
  C = (int(F) - 32) * 5/9
  return C
result = fahrenheit_to_celsius()
print(result)

# %%


# %% [markdown]
# -----

# %% [markdown]
# ## Side quest challenge
# 
# The side quest challenge is for extra credit. You can still get full credit for this activity even if you do not complete this challenge.

# %% [markdown]
# 1. Use **list comprehension** to build a new list for the most common profession in ```longlist_professions```.

# %%
most_common =[p for p in longlist_professions if p == 'laborer']
print(most_common)

# %% [markdown]
# 2. Make a function called ```budget_expenses``` that calculates the estimated budget for a trip to NYC. You will need the following parameters:
# - ```plane_ticket_price```
# - ```hotel_rate_per_day```
# - ```duration_of_trip```
# - ```subway_per_trip = 2.90```
# 
#    After making your function, call the function with the following values: ```plane_ticket_price```: 450, ```hotel_rate_per_day```: 120, ```duration_of_trip```: 5.
# 
#   **Hint**: Remember to calculate the total price of your hotel stay and round-trip subway cost for the entire duration of the trip

# %%
def budget_expenses():

# %%


# %% [markdown]
# -----

# %% [markdown]
# Some of the exercise questions are adapted from Melanie Walsh's *Introduction to Cultural Analytics & Python*.


