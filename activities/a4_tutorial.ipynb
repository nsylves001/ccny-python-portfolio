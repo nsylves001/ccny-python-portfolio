{
  "nbformat": 4,
  "nbformat_minor": 0,
  "metadata": {
    "colab": {
      "provenance": []
    },
    "kernelspec": {
      "name": "python3",
      "display_name": "Python 3"
    },
    "language_info": {
      "name": "python"
    }
  },
  "cells": [
    {
      "cell_type": "markdown",
      "source": [
        "**for** loop tutorial\n",
        "\n",
        "---\n",
        "\n",
        "\n",
        "\n",
        "**for** loops are used to work with lists and helps you go through every item in a list or \"iterating\" through a list.\n",
        "\n",
        "**Down below is an example:**"
      ],
      "metadata": {
        "id": "Rv3i7L4irRkR"
      }
    },
    {
      "cell_type": "code",
      "source": [
        "pets = ['Cat', 'Dog', 'Hamster', 'Bird']"
      ],
      "metadata": {
        "id": "9jrHwOHdpEDu"
      },
      "execution_count": null,
      "outputs": []
    },
    {
      "cell_type": "code",
      "source": [
        "for pet in pets:\n",
        "    print(pet)"
      ],
      "metadata": {
        "colab": {
          "base_uri": "https://localhost:8080/"
        },
        "id": "1OINyDimscSP",
        "outputId": "febf61d8-ea06-4991-c818-62c52504bf55"
      },
      "execution_count": null,
      "outputs": [
        {
          "output_type": "stream",
          "name": "stdout",
          "text": [
            "Cat\n",
            "Dog\n",
            "Hamster\n",
            "Bird\n"
          ]
        }
      ]
    },
    {
      "cell_type": "markdown",
      "source": [
        "A starter **for** loop consists of\n",
        "\n",
        "\n",
        "*   On the first line, you write **for**, then you write the name of the variable that represents each item in the list, write **in**, the name of the list, then a colon (**:**) to indicate the function of the loop\n",
        "*   On the second line, you would indent and write **print** (\"a statement that you want to be used for each item in the list\")\n",
        "* (make sure to use quotation marks to indicate a string and to prevent errors)\n",
        "\n",
        "**An example is provided down below:**"
      ],
      "metadata": {
        "id": "J-ALf5nAs0Vq"
      }
    },
    {
      "cell_type": "code",
      "source": [
        "for pet in pets:\n",
        "    print(f\"Your pet is {pet}\")"
      ],
      "metadata": {
        "colab": {
          "base_uri": "https://localhost:8080/"
        },
        "id": "nT-qcx2GsfPo",
        "outputId": "fd3f4fb8-f1c1-416a-e7d3-97b5c4e073e6"
      },
      "execution_count": null,
      "outputs": [
        {
          "output_type": "stream",
          "name": "stdout",
          "text": [
            "Your pet is Cat\n",
            "Your pet is Dog\n",
            "Your pet is Hamster\n",
            "Your pet is Bird\n"
          ]
        }
      ]
    },
    {
      "cell_type": "markdown",
      "source": [
        "**Using a different variable name:**\n",
        "* Instead of **pet**, you can use **y**"
      ],
      "metadata": {
        "id": "iBz3FvQ1vHlk"
      }
    },
    {
      "cell_type": "code",
      "source": [
        "for y in pets:\n",
        "    print(f\"Your pet is {y}\")"
      ],
      "metadata": {
        "colab": {
          "base_uri": "https://localhost:8080/"
        },
        "id": "IMmiIkpBvBlI",
        "outputId": "239d22e1-06ca-48eb-b8d2-30aa75997738"
      },
      "execution_count": null,
      "outputs": [
        {
          "output_type": "stream",
          "name": "stdout",
          "text": [
            "Your pet is Cat\n",
            "Your pet is Dog\n",
            "Your pet is Hamster\n",
            "Your pet is Bird\n"
          ]
        }
      ]
    },
    {
      "cell_type": "markdown",
      "source": [
        "Although the name of the variable that represents every item in the list is not set in stone, you can name it anything you want, it just has to be of human language significance.\n",
        "\n",
        "**For example: No** numbers (as see down below)"
      ],
      "metadata": {
        "id": "Wq7ehGKhvarV"
      }
    },
    {
      "cell_type": "code",
      "source": [
        "for 1 in pets:\n",
        "    print(f\"Your pet is {1}\")"
      ],
      "metadata": {
        "id": "Fse9MDVD0lOn"
      },
      "execution_count": null,
      "outputs": []
    }
  ]
}